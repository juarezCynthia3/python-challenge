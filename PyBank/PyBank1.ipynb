{
 "cells": [
  {
   "cell_type": "code",
   "execution_count": 46,
   "metadata": {},
   "outputs": [],
   "source": [
    "import os\n",
    "import csv\n",
    "\n",
    "csvpath = os.path.join('..','PyBank', 'budget_data.csv')"
   ]
  },
  {
   "cell_type": "code",
   "execution_count": 58,
   "metadata": {},
   "outputs": [],
   "source": [
    "total_months = 0\n",
    "total_profit_losses = 0\n",
    "value = 0\n",
    "change = 0\n",
    "months = []\n",
    "profits_losses = []\n",
    "\n",
    "with open(csvpath, newline = \"\") as csvfile:\n",
    "    csvreader = csv.reader(csvfile, delimiter = \",\")\n",
    "\n",
    "    csv_header = next(csvreader)\n",
    "    first_row = next(csvreader)\n",
    "    total_months += 1\n",
    "    total_profit_losses += int(first_row[1])\n",
    "    value = int(first_row[1])\n",
    "    \n",
    "#The total number of months included in the dataset\n",
    "    for row in csvreader:\n",
    "        months.append(row[0])\n",
    "        change = int(row[1]) - value\n",
    "        profits_losses.append(change)\n",
    "        value = int(row[1])\n",
    "        total_months += 1\n",
    "        \n",
    "#The net total amount of \"Profit/Losses\" over the entire period\n",
    "        total_profit_losses = total_profit_losses + int(row[1])\n",
    "\n",
    "#The average of the changes in \"Profit/Losses\" over the entire period\n",
    "average = sum(profits_losses)/len(profits_losses)\n",
    "\n",
    "#The greatest increase in profits (date and amount) over the entire period\n",
    "max_increase = max(profits_losses)\n",
    "max_index = profits_losses.index(max_increase)\n",
    "max_month = months[max_index]"
   ]
  },
  {
   "cell_type": "code",
   "execution_count": 59,
   "metadata": {},
   "outputs": [
    {
     "name": "stdout",
     "output_type": "stream",
     "text": [
      "Financial Analysis\n",
      "---------------------\n",
      "Total Months: 86\n",
      "Total: $38382578\n",
      "Average Change: $-2315.12\n",
      "Greatest Increase in Profits: Feb-2012 ($1926159)\n",
      "Greatest Decrease in Profits: Sep-2013 ($-2196167)\n"
     ]
    }
   ],
   "source": [
    "#Print Financial Analysis\n",
    "\n",
    "print(\"Financial Analysis\")\n",
    "print(\"---------------------\")\n",
    "print(f\"Total Months: {str(total_months)}\")\n",
    "print(f\"Total: ${str(total_profit_losses)}\")\n",
    "print(f\"Average Change: ${str(round(average,2))}\")\n",
    "print(f\"Greatest Increase in Profits: {max_month} (${str(max_increase)})\")\n",
    "print(f\"Greatest Decrease in Profits: {min_month} (${str(min_increase)})\")\n"
   ]
  },
  {
   "cell_type": "code",
   "execution_count": 61,
   "metadata": {},
   "outputs": [],
   "source": [
    "#txt file\n",
    "output = open(\"output.txt\", \"w\")\n",
    "\n",
    "line1 = \"Financial Analysis\"\n",
    "line2 = \"----------------------------\"\n",
    "line3 = str(f\"Total Months: {str(total_months)}\")\n",
    "line4 = str(f\"Total: ${str(total_profit_losses)}\")\n",
    "line5 = str(f\"Average Change: ${str(round(average,2))}\")\n",
    "line6 = str(f\"Greatest Increase in Profits: {max_month} (${str(max_increase)})\")\n",
    "line7 = str(f\"Greatest Decrease in Profits:  {min_month} (${str(min_increase)})\")"
   ]
  }
 ],
 "metadata": {
  "kernelspec": {
   "display_name": "Conda [PythonData]",
   "language": "python",
   "name": "pythondata"
  },
  "language_info": {
   "codemirror_mode": {
    "name": "ipython",
    "version": 3
   },
   "file_extension": ".py",
   "mimetype": "text/x-python",
   "name": "python",
   "nbconvert_exporter": "python",
   "pygments_lexer": "ipython3",
   "version": "3.7.3"
  }
 },
 "nbformat": 4,
 "nbformat_minor": 2
}
